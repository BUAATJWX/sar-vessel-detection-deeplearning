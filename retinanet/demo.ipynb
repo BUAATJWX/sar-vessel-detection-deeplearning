{
 "cells": [
  {
   "cell_type": "code",
   "execution_count": 1,
   "metadata": {},
   "outputs": [
    {
     "name": "stdout",
     "output_type": "stream",
     "text": [
      "CUDA available: True\n"
     ]
    }
   ],
   "source": [
    "import numpy as np\n",
    "import torchvision\n",
    "import time\n",
    "import os\n",
    "import copy\n",
    "import pdb\n",
    "import time\n",
    "import argparse\n",
    "\n",
    "import sys\n",
    "import cv2\n",
    "\n",
    "from utils_rcnn.eval_tool import eval_detection_voc\n",
    "\n",
    "import torch\n",
    "from torch.utils.data import Dataset, DataLoader\n",
    "from torchvision import datasets, models, transforms\n",
    "\n",
    "from dataloader import VESSELBboxDataset, collater, Resizer, AspectRatioBasedSampler, Augmenter, UnNormalizer, Normalizer\n",
    "from PIL import Image, ImageDraw\n",
    "\n",
    "import glob\n",
    "%matplotlib inline\n",
    "import matplotlib\n",
    "matplotlib.use('Agg')\n",
    "import matplotlib.pyplot as plt\n",
    "import matplotlib.patches as patches\n",
    "import voc_eval\n",
    "\n",
    "import skimage.io\n",
    "import skimage.transform\n",
    "import skimage.color\n",
    "import skimage\n",
    "\n",
    "assert torch.__version__.split('.')[1] == '4'\n",
    "\n",
    "\n",
    "print('CUDA available: {}'.format(torch.cuda.is_available()))"
   ]
  },
  {
   "cell_type": "code",
   "execution_count": 2,
   "metadata": {},
   "outputs": [],
   "source": [
    "def print_inline(line):\n",
    "    sys.stdout.write(f'\\r{line}')\n",
    "    sys.stdout.flush()"
   ]
  },
  {
   "cell_type": "code",
   "execution_count": 3,
   "metadata": {},
   "outputs": [],
   "source": [
    "use_gpu = True\n",
    "retinanet = torch.load('./checkpoint/ckpt.pt')\n",
    "\n",
    "if use_gpu:\n",
    "    retinanet = retinanet.cuda()\n",
    "\n",
    "retinanet.eval()\n",
    "# paths = glob.glob('images/*.jpg')\n",
    "data_dir = \"/media/nasir/Drive1/datasets/SAR/SAR-Ship-Dataset\"\n",
    "paths = glob.glob(f'{data_dir}/JPEGImages/*.jpg')"
   ]
  },
  {
   "cell_type": "code",
   "execution_count": null,
   "metadata": {},
   "outputs": [],
   "source": []
  },
  {
   "cell_type": "code",
   "execution_count": 4,
   "metadata": {},
   "outputs": [],
   "source": [
    "def str2int(a):\n",
    "    return [int(x) for x in a]\n",
    "\n",
    "def extract_boxes(fname):\n",
    "    with open(fname) as f:\n",
    "        content = f.readlines()\n",
    "        f.close()\n",
    "        content = [x.strip() for x in content]\n",
    "        content = [str2int(x.split(' ')[-4:]) for x in content]\n",
    "        return content"
   ]
  },
  {
   "cell_type": "code",
   "execution_count": 5,
   "metadata": {},
   "outputs": [],
   "source": [
    "transform = transforms.Compose([\n",
    "    transforms.ToTensor(),\n",
    "    transforms.Normalize((0.485,0.456,0.406), (0.229,0.224,0.225))\n",
    "])\n",
    "\n",
    "def transform_resize(image, annots, scale=1):\n",
    "    rows, cols, cns = image.shape\n",
    "    image = skimage.transform.resize(image, (int(round(rows*scale)), int(round((cols*scale)))))\n",
    "    x = transform(image)\n",
    "    x = x.unsqueeze(0)\n",
    "    annots_scaled = (np.array(annots)*scale).astype(int)\n",
    "    \n",
    "\n",
    "    return x, annots_scaled"
   ]
  },
  {
   "cell_type": "code",
   "execution_count": 6,
   "metadata": {},
   "outputs": [],
   "source": [
    "def save_results(paths):\n",
    "    for index, path in enumerate(paths):\n",
    "        img = np.array(Image.open(path).convert('RGB'))\n",
    "        gt_boxes = extract_boxes(path.replace('JPEGImages','ground-truth').replace('.jpg', '.txt'))\n",
    "\n",
    "        x, gt_boxes = transform_resize(img, gt_boxes, 0.6)\n",
    "        print(x.shape)\n",
    "\n",
    "        with torch.no_grad():\n",
    "            st = time.time()\n",
    "            scores, classification, transformed_anchors = retinanet(x.cuda().float())\n",
    "            idxs = np.where(scores>0.5)\n",
    "            img = np.array(img).copy()\n",
    "\n",
    "            f, axarr = plt.subplots(1,2)\n",
    "\n",
    "            axarr[0].imshow(x[0,0,:,:], cmap='gray')\n",
    "            axarr[0].axis('off')\n",
    "            axarr[1].imshow(x[0,0,:,:], cmap='gray')\n",
    "            axarr[1].axis('off')\n",
    "    #         gt_boxes = extract_boxes(path.replace('.jpg', '.txt'))\n",
    "\n",
    "            for box in gt_boxes:\n",
    "                rect = patches.Rectangle((box[0],box[1]),box[2],box[3],linewidth=2,edgecolor='g',facecolor='none')\n",
    "                axarr[0].add_patch(rect)\n",
    "\n",
    "            for j in range(idxs[0].shape[0]):\n",
    "                box = transformed_anchors[idxs[0][j], :]\n",
    "                rect = patches.Rectangle((box[0],box[1]),box[2]-box[0],box[3]-box[1],linewidth=2,edgecolor='r',facecolor='none')\n",
    "                axarr[1].add_patch(rect)\n",
    "            print_inline(f\"{index}/{len(paths)}, {path}\")\n",
    "            axarr[0].title.set_text('Ground Truth')\n",
    "            axarr[1].title.set_text('Detected')\n",
    "\n",
    "            plt.savefig(path.replace('JPEGImages', 'results'))\n",
    "            plt.close('all')\n",
    "\n"
   ]
  },
  {
   "cell_type": "code",
   "execution_count": 7,
   "metadata": {},
   "outputs": [],
   "source": [
    "def evaluate_voc(dataset, model, threshold=0.5):\n",
    "    print_inline('\\n\\n')\n",
    "    model.eval()\n",
    "    \n",
    "    pred_bboxes, pred_labels, pred_scores = list(), list(), list()\n",
    "    gt_bboxes, gt_labels, gt_difficults = list(), list(), list()\n",
    "\n",
    "    with torch.no_grad():\n",
    "\n",
    "        for index in range(len(dataset)):\n",
    "            data = dataset[index]\n",
    "            # scale = data['scale']\n",
    "\n",
    "            # run network\n",
    "            scores, labels, boxes = model(data['img'].cuda().float().unsqueeze(dim=0))\n",
    "            scores = scores.cpu()\n",
    "            labels = labels.cpu()\n",
    "            boxes  = boxes.cpu()\n",
    "\n",
    "\n",
    "            gt_bboxes.append((data['annot'][:,:4].numpy()))\n",
    "            gt_labels.append((data['annot'][:,4].numpy()))\n",
    "            \n",
    "            gt_difficults += [0 for x in range(data['annot'].shape[0])]\n",
    "            pred_bboxes.append((np.array([box.numpy() for box in boxes])))\n",
    "            pred_labels.append((np.array([lable.numpy() for lable in labels])))\n",
    "            pred_scores.append((np.array([s.numpy() for s in scores])))\n",
    "\n",
    "            print_inline('{}/{}'.format(index, len(dataset)))\n",
    "        \n",
    "\n",
    "        result = eval_detection_voc(\n",
    "            pred_bboxes, pred_labels, pred_scores,\n",
    "            gt_bboxes, gt_labels, None,\n",
    "            use_07_metric=True)\n",
    "\n",
    "\n",
    "        return result"
   ]
  },
  {
   "cell_type": "code",
   "execution_count": 8,
   "metadata": {},
   "outputs": [
    {
     "name": "stdout",
     "output_type": "stream",
     "text": [
      "\n",
      "\n",
      "3809/3810\n",
      "\n",
      " map: ----->    0.41465131528578736 \n"
     ]
    }
   ],
   "source": [
    "dataset_val = VESSELBboxDataset(split='test', scale=0.6)\n",
    "eval_result = evaluate_voc(dataset_val, retinanet)\n",
    "print_inline(f'\\n\\n map: ----->    {eval_result[\"map\"]} \\n')"
   ]
  },
  {
   "cell_type": "code",
   "execution_count": 29,
   "metadata": {},
   "outputs": [
    {
     "name": "stdout",
     "output_type": "stream",
     "text": [
      "\n",
      "\n",
      "3809/3810\n",
      "\n",
      " map: ----->    0.6703695705028253 \n"
     ]
    }
   ],
   "source": [
    "dataset_val = VESSELBboxDataset(split='test', scale=0.85)\n",
    "eval_result = evaluate_voc(dataset_val, retinanet)\n",
    "print_inline(f'\\n\\n map: ----->    {eval_result[\"map\"]} \\n')"
   ]
  },
  {
   "cell_type": "code",
   "execution_count": 30,
   "metadata": {},
   "outputs": [
    {
     "name": "stdout",
     "output_type": "stream",
     "text": [
      "\n",
      "\n",
      "3809/3810\n",
      "\n",
      " map: ----->    0.783440169198 \n"
     ]
    }
   ],
   "source": [
    "dataset_val = VESSELBboxDataset(split='test', scale=1)\n",
    "eval_result = evaluate_voc(dataset_val, retinanet)\n",
    "print_inline(f'\\n\\n map: ----->    {eval_result[\"map\"]} \\n')"
   ]
  },
  {
   "cell_type": "code",
   "execution_count": 31,
   "metadata": {},
   "outputs": [
    {
     "name": "stdout",
     "output_type": "stream",
     "text": [
      "\n",
      "\n",
      "3809/3810\n",
      "\n",
      " map: ----->    0.7414039903619322 \n"
     ]
    }
   ],
   "source": [
    "dataset_val = VESSELBboxDataset(split='test', scale=1.10)\n",
    "eval_result = evaluate_voc(dataset_val, retinanet)\n",
    "print_inline(f'\\n\\n map: ----->    {eval_result[\"map\"]} \\n')"
   ]
  },
  {
   "cell_type": "code",
   "execution_count": 38,
   "metadata": {},
   "outputs": [
    {
     "name": "stdout",
     "output_type": "stream",
     "text": [
      "\n",
      "\n",
      "3809/3810\n",
      "\n",
      " map: ----->    0.7460285268594192 \n"
     ]
    }
   ],
   "source": [
    "dataset_val = VESSELBboxDataset(split='test', scale=1.23)\n",
    "eval_result = evaluate_voc(dataset_val, retinanet)\n",
    "print_inline(f'\\n\\n map: ----->    {eval_result[\"map\"]} \\n')"
   ]
  },
  {
   "cell_type": "code",
   "execution_count": 39,
   "metadata": {},
   "outputs": [
    {
     "name": "stdout",
     "output_type": "stream",
     "text": [
      "\n",
      "\n",
      "3809/3810\n",
      "\n",
      " map: ----->    0.7526550331308853 \n"
     ]
    }
   ],
   "source": [
    "dataset_val = VESSELBboxDataset(split='test', scale=1.25)\n",
    "eval_result = evaluate_voc(dataset_val, retinanet)\n",
    "print_inline(f'\\n\\n map: ----->    {eval_result[\"map\"]} \\n')"
   ]
  },
  {
   "cell_type": "code",
   "execution_count": 50,
   "metadata": {},
   "outputs": [
    {
     "name": "stdout",
     "output_type": "stream",
     "text": [
      "\n",
      "\n",
      "3809/3810\n",
      "\n",
      " map: ----->    0.7373150255258241 \n"
     ]
    }
   ],
   "source": [
    "dataset_val = VESSELBboxDataset(split='test', scale=1.35)\n",
    "eval_result = evaluate_voc(dataset_val, retinanet)\n",
    "print_inline(f'\\n\\n map: ----->    {eval_result[\"map\"]} \\n')"
   ]
  },
  {
   "cell_type": "code",
   "execution_count": 61,
   "metadata": {},
   "outputs": [
    {
     "name": "stdout",
     "output_type": "stream",
     "text": [
      "\n",
      "\n",
      "3809/3810\n",
      "\n",
      " map: ----->    0.698996258589648 \n"
     ]
    }
   ],
   "source": [
    "dataset_val = VESSELBboxDataset(split='test', scale=1.48)\n",
    "eval_result = evaluate_voc(dataset_val, retinanet)\n",
    "print_inline(f'\\n\\n map: ----->    {eval_result[\"map\"]} \\n')"
   ]
  },
  {
   "cell_type": "code",
   "execution_count": 62,
   "metadata": {},
   "outputs": [
    {
     "name": "stdout",
     "output_type": "stream",
     "text": [
      "\n",
      "\n",
      "3809/3810\n",
      "\n",
      " map: ----->    0.5565673555605288 \n"
     ]
    }
   ],
   "source": [
    "dataset_val = VESSELBboxDataset(split='test', scale=2)\n",
    "eval_result = evaluate_voc(dataset_val, retinanet)\n",
    "print_inline(f'\\n\\n map: ----->    {eval_result[\"map\"]} \\n')"
   ]
  },
  {
   "cell_type": "code",
   "execution_count": null,
   "metadata": {},
   "outputs": [],
   "source": []
  }
 ],
 "metadata": {
  "kernelspec": {
   "display_name": "Python [conda env:ret]",
   "language": "python",
   "name": "conda-env-ret-py"
  },
  "language_info": {
   "codemirror_mode": {
    "name": "ipython",
    "version": 3
   },
   "file_extension": ".py",
   "mimetype": "text/x-python",
   "name": "python",
   "nbconvert_exporter": "python",
   "pygments_lexer": "ipython3",
   "version": "3.6.8"
  }
 },
 "nbformat": 4,
 "nbformat_minor": 2
}
