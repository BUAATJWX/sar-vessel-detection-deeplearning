{
 "cells": [
  {
   "cell_type": "code",
   "execution_count": 1,
   "metadata": {},
   "outputs": [],
   "source": [
    "%load_ext autoreload\n",
    "%autoreload 2\n",
    "import os\n",
    "import torch as t\n",
    "from utils.config import opt\n",
    "from model import FasterRCNNVGG16\n",
    "from trainer import FasterRCNNTrainer\n",
    "from data.util import  read_image\n",
    "from utils.vis_tool import vis_bbox\n",
    "from utils import array_tool as at\n",
    "%matplotlib inline\n",
    "import matplotlib\n",
    "matplotlib.use('Agg')\n",
    "import matplotlib.pyplot as plt\n",
    "import matplotlib.patches as patches\n",
    "from data.dataset import Dataset, TestDataset, inverse_normalize\n",
    "from utils.config import opt\n",
    "from utils.eval_tool import eval_detection_voc\n",
    "import sys\n",
    "from torch.utils import data as data_\n",
    "from tqdm import tqdm\n",
    "\n"
   ]
  },
  {
   "cell_type": "code",
   "execution_count": 2,
   "metadata": {},
   "outputs": [],
   "source": [
    "testset = TestDataset(opt, scale=0.5)\n",
    "test_dataloader = data_.DataLoader(testset,\n",
    "                                   batch_size=1,\n",
    "                                   num_workers=1,\n",
    "                                   shuffle=False, \\\n",
    "                                   pin_memory=True\n",
    "                                   )\n",
    "img, sizes, gt_bboxes_, gt_labels_, gt_difficults_ = next(iter(test_dataloader))\n"
   ]
  },
  {
   "cell_type": "code",
   "execution_count": 3,
   "metadata": {},
   "outputs": [],
   "source": [
    "f, axarr = plt.subplots(1,1)\n",
    "axarr.imshow(img[0,0,:,:], cmap='gray')\n",
    "axarr.axis('off')\n",
    "# gt_boxes = extract_boxes(path.replace('.jpg', '.txt'))\n",
    "\n",
    "for box in gt_bboxes_[0]:\n",
    "    rect = patches.Rectangle((box[1],box[0]),box[3]-box[1],box[2]-box[0],linewidth=2,edgecolor='g',facecolor='none')\n",
    "    axarr.add_patch(rect)\n",
    "\n",
    "\n",
    "axarr.title.set_text('Ground Truth')\n"
   ]
  },
  {
   "cell_type": "code",
   "execution_count": 4,
   "metadata": {},
   "outputs": [],
   "source": [
    "def print_inline(line):\n",
    "    sys.stdout.write(f'\\r{line}')\n",
    "    sys.stdout.flush()"
   ]
  },
  {
   "cell_type": "code",
   "execution_count": 5,
   "metadata": {},
   "outputs": [
    {
     "name": "stderr",
     "output_type": "stream",
     "text": [
      "WARNING:root:Setting up a new session...\n",
      "Traceback (most recent call last):\n",
      "  File \"/home/nasir/anaconda3/envs/sar/lib/python3.6/site-packages/urllib3/connection.py\", line 159, in _new_conn\n",
      "    (self._dns_host, self.port), self.timeout, **extra_kw)\n",
      "  File \"/home/nasir/anaconda3/envs/sar/lib/python3.6/site-packages/urllib3/util/connection.py\", line 80, in create_connection\n",
      "    raise err\n",
      "  File \"/home/nasir/anaconda3/envs/sar/lib/python3.6/site-packages/urllib3/util/connection.py\", line 70, in create_connection\n",
      "    sock.connect(sa)\n",
      "ConnectionRefusedError: [Errno 111] Connection refused\n",
      "\n",
      "During handling of the above exception, another exception occurred:\n",
      "\n",
      "Traceback (most recent call last):\n",
      "  File \"/home/nasir/anaconda3/envs/sar/lib/python3.6/site-packages/urllib3/connectionpool.py\", line 600, in urlopen\n",
      "    chunked=chunked)\n",
      "  File \"/home/nasir/anaconda3/envs/sar/lib/python3.6/site-packages/urllib3/connectionpool.py\", line 354, in _make_request\n",
      "    conn.request(method, url, **httplib_request_kw)\n",
      "  File \"/home/nasir/anaconda3/envs/sar/lib/python3.6/http/client.py\", line 1239, in request\n",
      "    self._send_request(method, url, body, headers, encode_chunked)\n",
      "  File \"/home/nasir/anaconda3/envs/sar/lib/python3.6/http/client.py\", line 1285, in _send_request\n",
      "    self.endheaders(body, encode_chunked=encode_chunked)\n",
      "  File \"/home/nasir/anaconda3/envs/sar/lib/python3.6/http/client.py\", line 1234, in endheaders\n",
      "    self._send_output(message_body, encode_chunked=encode_chunked)\n",
      "  File \"/home/nasir/anaconda3/envs/sar/lib/python3.6/http/client.py\", line 1026, in _send_output\n",
      "    self.send(msg)\n",
      "  File \"/home/nasir/anaconda3/envs/sar/lib/python3.6/http/client.py\", line 964, in send\n",
      "    self.connect()\n",
      "  File \"/home/nasir/anaconda3/envs/sar/lib/python3.6/site-packages/urllib3/connection.py\", line 181, in connect\n",
      "    conn = self._new_conn()\n",
      "  File \"/home/nasir/anaconda3/envs/sar/lib/python3.6/site-packages/urllib3/connection.py\", line 168, in _new_conn\n",
      "    self, \"Failed to establish a new connection: %s\" % e)\n",
      "urllib3.exceptions.NewConnectionError: <urllib3.connection.HTTPConnection object at 0x7f3cec698278>: Failed to establish a new connection: [Errno 111] Connection refused\n",
      "\n",
      "During handling of the above exception, another exception occurred:\n",
      "\n",
      "Traceback (most recent call last):\n",
      "  File \"/home/nasir/anaconda3/envs/sar/lib/python3.6/site-packages/requests/adapters.py\", line 449, in send\n",
      "    timeout=timeout\n",
      "  File \"/home/nasir/anaconda3/envs/sar/lib/python3.6/site-packages/urllib3/connectionpool.py\", line 638, in urlopen\n",
      "    _stacktrace=sys.exc_info()[2])\n",
      "  File \"/home/nasir/anaconda3/envs/sar/lib/python3.6/site-packages/urllib3/util/retry.py\", line 399, in increment\n",
      "    raise MaxRetryError(_pool, url, error or ResponseError(cause))\n",
      "urllib3.exceptions.MaxRetryError: HTTPConnectionPool(host='localhost', port=8097): Max retries exceeded with url: /env/faster-rcnn (Caused by NewConnectionError('<urllib3.connection.HTTPConnection object at 0x7f3cec698278>: Failed to establish a new connection: [Errno 111] Connection refused',))\n",
      "\n",
      "During handling of the above exception, another exception occurred:\n",
      "\n",
      "Traceback (most recent call last):\n",
      "  File \"/home/nasir/anaconda3/envs/sar/lib/python3.6/site-packages/visdom/__init__.py\", line 548, in _send\n",
      "    data=json.dumps(msg),\n",
      "  File \"/home/nasir/anaconda3/envs/sar/lib/python3.6/site-packages/requests/sessions.py\", line 581, in post\n",
      "    return self.request('POST', url, data=data, json=json, **kwargs)\n",
      "  File \"/home/nasir/anaconda3/envs/sar/lib/python3.6/site-packages/requests/sessions.py\", line 533, in request\n",
      "    resp = self.send(prep, **send_kwargs)\n",
      "  File \"/home/nasir/anaconda3/envs/sar/lib/python3.6/site-packages/requests/sessions.py\", line 646, in send\n",
      "    r = adapter.send(request, **kwargs)\n",
      "  File \"/home/nasir/anaconda3/envs/sar/lib/python3.6/site-packages/requests/adapters.py\", line 516, in send\n",
      "    raise ConnectionError(e, request=request)\n",
      "requests.exceptions.ConnectionError: HTTPConnectionPool(host='localhost', port=8097): Max retries exceeded with url: /env/faster-rcnn (Caused by NewConnectionError('<urllib3.connection.HTTPConnection object at 0x7f3cec698278>: Failed to establish a new connection: [Errno 111] Connection refused',))\n",
      "WARNING:visdom:Without the incoming socket you cannot receive events from the server or register event handlers to your Visdom client.\n"
     ]
    },
    {
     "name": "stdout",
     "output_type": "stream",
     "text": [
      "Exception in user code:\n",
      "------------------------------------------------------------\n"
     ]
    },
    {
     "data": {
      "text/plain": [
       "FasterRCNNTrainer(\n",
       "  (faster_rcnn): FasterRCNNVGG16(\n",
       "    (extractor): Sequential(\n",
       "      (0): Conv2d(3, 64, kernel_size=(3, 3), stride=(1, 1), padding=(1, 1))\n",
       "      (1): ReLU(inplace)\n",
       "      (2): Conv2d(64, 64, kernel_size=(3, 3), stride=(1, 1), padding=(1, 1))\n",
       "      (3): ReLU(inplace)\n",
       "      (4): MaxPool2d(kernel_size=2, stride=2, padding=0, dilation=1, ceil_mode=False)\n",
       "      (5): Conv2d(64, 128, kernel_size=(3, 3), stride=(1, 1), padding=(1, 1))\n",
       "      (6): ReLU(inplace)\n",
       "      (7): Conv2d(128, 128, kernel_size=(3, 3), stride=(1, 1), padding=(1, 1))\n",
       "      (8): ReLU(inplace)\n",
       "      (9): MaxPool2d(kernel_size=2, stride=2, padding=0, dilation=1, ceil_mode=False)\n",
       "      (10): Conv2d(128, 256, kernel_size=(3, 3), stride=(1, 1), padding=(1, 1))\n",
       "      (11): ReLU(inplace)\n",
       "      (12): Conv2d(256, 256, kernel_size=(3, 3), stride=(1, 1), padding=(1, 1))\n",
       "      (13): ReLU(inplace)\n",
       "      (14): Conv2d(256, 256, kernel_size=(3, 3), stride=(1, 1), padding=(1, 1))\n",
       "      (15): ReLU(inplace)\n",
       "      (16): MaxPool2d(kernel_size=2, stride=2, padding=0, dilation=1, ceil_mode=False)\n",
       "      (17): Conv2d(256, 512, kernel_size=(3, 3), stride=(1, 1), padding=(1, 1))\n",
       "      (18): ReLU(inplace)\n",
       "      (19): Conv2d(512, 512, kernel_size=(3, 3), stride=(1, 1), padding=(1, 1))\n",
       "      (20): ReLU(inplace)\n",
       "      (21): Conv2d(512, 512, kernel_size=(3, 3), stride=(1, 1), padding=(1, 1))\n",
       "      (22): ReLU(inplace)\n",
       "      (23): MaxPool2d(kernel_size=2, stride=2, padding=0, dilation=1, ceil_mode=False)\n",
       "      (24): Conv2d(512, 512, kernel_size=(3, 3), stride=(1, 1), padding=(1, 1))\n",
       "      (25): ReLU(inplace)\n",
       "      (26): Conv2d(512, 512, kernel_size=(3, 3), stride=(1, 1), padding=(1, 1))\n",
       "      (27): ReLU(inplace)\n",
       "      (28): Conv2d(512, 512, kernel_size=(3, 3), stride=(1, 1), padding=(1, 1))\n",
       "      (29): ReLU(inplace)\n",
       "    )\n",
       "    (rpn): RegionProposalNetwork(\n",
       "      (conv1): Conv2d(512, 512, kernel_size=(3, 3), stride=(1, 1), padding=(1, 1))\n",
       "      (score): Conv2d(512, 18, kernel_size=(1, 1), stride=(1, 1))\n",
       "      (loc): Conv2d(512, 36, kernel_size=(1, 1), stride=(1, 1))\n",
       "    )\n",
       "    (head): VGG16RoIHead(\n",
       "      (classifier): Sequential(\n",
       "        (0): Linear(in_features=25088, out_features=4096, bias=True)\n",
       "        (1): ReLU(inplace)\n",
       "        (2): Linear(in_features=4096, out_features=4096, bias=True)\n",
       "        (3): ReLU(inplace)\n",
       "      )\n",
       "      (cls_loc): Linear(in_features=4096, out_features=84, bias=True)\n",
       "      (score): Linear(in_features=4096, out_features=21, bias=True)\n",
       "      (roi): RoIPooling2D()\n",
       "    )\n",
       "  )\n",
       ")"
      ]
     },
     "execution_count": 5,
     "metadata": {},
     "output_type": "execute_result"
    }
   ],
   "source": [
    "faster_rcnn = FasterRCNNVGG16()\n",
    "opt.caffe_pretrain=False \n",
    "trainer = FasterRCNNTrainer(faster_rcnn).cuda()\n",
    "trainer.load('checkpoints/ckpt.pt')\n"
   ]
  },
  {
   "cell_type": "code",
   "execution_count": 9,
   "metadata": {},
   "outputs": [],
   "source": [
    "import glob\n",
    "paths = glob.glob('images/*.jpg')"
   ]
  },
  {
   "cell_type": "code",
   "execution_count": 10,
   "metadata": {},
   "outputs": [],
   "source": [
    "def str2int(a):\n",
    "    return [int(x) for x in a]\n",
    "\n",
    "def extract_boxes(fname):\n",
    "    with open(fname) as f:\n",
    "        content = f.readlines()\n",
    "        f.close()\n",
    "        content = [x.strip() for x in content]\n",
    "        content = [str2int(x.split(' ')[-4:]) for x in content]\n",
    "        return content"
   ]
  },
  {
   "cell_type": "code",
   "execution_count": 11,
   "metadata": {},
   "outputs": [],
   "source": [
    "for path in paths:\n",
    "    img = read_image(path)\n",
    "    img = t.from_numpy(img)[None]\n",
    "    _bboxes, _labels, _scores = trainer.faster_rcnn.predict(img,visualize=True)\n",
    "\n",
    "    f, axarr = plt.subplots(1,2)\n",
    "    axarr[0].imshow(img[0,0,:,:], cmap='gray')\n",
    "    axarr[0].axis('off')\n",
    "    axarr[1].imshow(img[0,0,:,:], cmap='gray')\n",
    "    axarr[1].axis('off')\n",
    "    gt_boxes = extract_boxes(path.replace('.jpg', '.txt'))\n",
    "\n",
    "    for box in gt_boxes:\n",
    "        rect = patches.Rectangle((box[0],box[1]),box[2],box[3],linewidth=2,edgecolor='g',facecolor='none')\n",
    "        axarr[0].add_patch(rect)\n",
    "\n",
    "    for box in _bboxes[0]:\n",
    "        rect = patches.Rectangle((box[1],box[0]),box[3]-box[1],box[2]-box[0],linewidth=2,edgecolor='r',facecolor='none')\n",
    "        axarr[1].add_patch(rect)\n",
    "\n",
    "    axarr[0].title.set_text('Ground Truth')\n",
    "    axarr[1].title.set_text('Detected')\n",
    "    plt.savefig(path.replace('images', 'results'))"
   ]
  },
  {
   "cell_type": "code",
   "execution_count": 12,
   "metadata": {},
   "outputs": [],
   "source": [
    "def eval(dataloader, faster_rcnn, test_num=10000):\n",
    "    pred_bboxes, pred_labels, pred_scores = list(), list(), list()\n",
    "    gt_bboxes, gt_labels, gt_difficults = list(), list(), list()\n",
    "    for ii, (imgs, sizes, gt_bboxes_, gt_labels_, gt_difficults_) in tqdm(enumerate(dataloader)):\n",
    "        sizes = [sizes[0][0].item(), sizes[1][0].item()]\n",
    "        pred_bboxes_, pred_labels_, pred_scores_ = faster_rcnn.predict(imgs, [sizes])\n",
    "        gt_bboxes += list(gt_bboxes_.numpy())\n",
    "        gt_labels += list(gt_labels_.numpy())\n",
    "        gt_difficults += list(gt_difficults_.numpy())\n",
    "        pred_bboxes += pred_bboxes_\n",
    "        pred_labels += pred_labels_\n",
    "        pred_scores += pred_scores_\n",
    "        if ii == test_num: break\n",
    "    result = eval_detection_voc(\n",
    "        pred_bboxes, pred_labels, pred_scores,\n",
    "        gt_bboxes, gt_labels, gt_difficults,\n",
    "        use_07_metric=True)\n",
    "    return result"
   ]
  },
  {
   "cell_type": "code",
   "execution_count": 13,
   "metadata": {},
   "outputs": [
    {
     "name": "stderr",
     "output_type": "stream",
     "text": [
      "3810it [06:36,  9.23it/s]\n"
     ]
    },
    {
     "name": "stdout",
     "output_type": "stream",
     "text": [
      "test_map 0.4166509698414168\n"
     ]
    }
   ],
   "source": [
    "testset = TestDataset(opt, scale=0.6)\n",
    "test_dataloader = data_.DataLoader(testset,\n",
    "                                   batch_size=1,\n",
    "                                   num_workers=1,\n",
    "                                   shuffle=False, \\\n",
    "                                   pin_memory=True\n",
    "                                   )\n",
    "eval_result = eval(test_dataloader, faster_rcnn, test_num=opt.test_num)\n",
    "print('test_map', eval_result['map'])"
   ]
  },
  {
   "cell_type": "code",
   "execution_count": 11,
   "metadata": {},
   "outputs": [
    {
     "name": "stderr",
     "output_type": "stream",
     "text": [
      "3810it [09:31,  8.26it/s]\n"
     ]
    },
    {
     "name": "stdout",
     "output_type": "stream",
     "text": [
      "test_map 0.636499810749856\n"
     ]
    }
   ],
   "source": [
    "testset = TestDataset(opt, scale=0.85)\n",
    "test_dataloader = data_.DataLoader(testset,\n",
    "                                   batch_size=1,\n",
    "                                   num_workers=1,\n",
    "                                   shuffle=False, \\\n",
    "                                   pin_memory=True\n",
    "                                   )\n",
    "eval_result = eval(test_dataloader, faster_rcnn, test_num=opt.test_num)\n",
    "print('test_map', eval_result['map'])"
   ]
  },
  {
   "cell_type": "code",
   "execution_count": 12,
   "metadata": {},
   "outputs": [
    {
     "name": "stderr",
     "output_type": "stream",
     "text": [
      "3810it [09:09,  6.88it/s]\n"
     ]
    },
    {
     "name": "stdout",
     "output_type": "stream",
     "text": [
      "test_map 0.7574635787177146\n"
     ]
    }
   ],
   "source": [
    "testset = TestDataset(opt, scale=1)\n",
    "test_dataloader = data_.DataLoader(testset,\n",
    "                                   batch_size=1,\n",
    "                                   num_workers=1,\n",
    "                                   shuffle=False, \\\n",
    "                                   pin_memory=True\n",
    "                                   )\n",
    "eval_result = eval(test_dataloader, faster_rcnn, test_num=opt.test_num)\n",
    "print('test_map', eval_result['map'])"
   ]
  },
  {
   "cell_type": "code",
   "execution_count": 13,
   "metadata": {},
   "outputs": [
    {
     "name": "stderr",
     "output_type": "stream",
     "text": [
      "3810it [09:26,  7.78it/s]\n"
     ]
    },
    {
     "name": "stdout",
     "output_type": "stream",
     "text": [
      "test_map 0.7356694260122546\n"
     ]
    }
   ],
   "source": [
    "testset = TestDataset(opt, scale=1.1)\n",
    "test_dataloader = data_.DataLoader(testset,\n",
    "                                   batch_size=1,\n",
    "                                   num_workers=1,\n",
    "                                   shuffle=False, \\\n",
    "                                   pin_memory=True\n",
    "                                   )\n",
    "eval_result = eval(test_dataloader, faster_rcnn, test_num=opt.test_num)\n",
    "print('test_map', eval_result['map'])"
   ]
  },
  {
   "cell_type": "code",
   "execution_count": 14,
   "metadata": {},
   "outputs": [
    {
     "name": "stderr",
     "output_type": "stream",
     "text": [
      "3810it [09:43,  7.85it/s]\n"
     ]
    },
    {
     "name": "stdout",
     "output_type": "stream",
     "text": [
      "test_map 0.7222116736644185\n"
     ]
    }
   ],
   "source": [
    "testset = TestDataset(opt, scale=1.23)\n",
    "test_dataloader = data_.DataLoader(testset,\n",
    "                                   batch_size=1,\n",
    "                                   num_workers=1,\n",
    "                                   shuffle=False, \\\n",
    "                                   pin_memory=True\n",
    "                                   )\n",
    "eval_result = eval(test_dataloader, faster_rcnn, test_num=opt.test_num)\n",
    "print('test_map', eval_result['map'])"
   ]
  },
  {
   "cell_type": "code",
   "execution_count": 15,
   "metadata": {},
   "outputs": [
    {
     "name": "stderr",
     "output_type": "stream",
     "text": [
      "3810it [09:21,  7.66it/s]\n"
     ]
    },
    {
     "name": "stdout",
     "output_type": "stream",
     "text": [
      "test_map 0.7456952756721609\n"
     ]
    }
   ],
   "source": [
    "testset = TestDataset(opt, scale=1.25)\n",
    "test_dataloader = data_.DataLoader(testset,\n",
    "                                   batch_size=1,\n",
    "                                   num_workers=1,\n",
    "                                   shuffle=False, \\\n",
    "                                   pin_memory=True\n",
    "                                   )\n",
    "eval_result = eval(test_dataloader, faster_rcnn, test_num=opt.test_num)\n",
    "print('test_map', eval_result['map'])"
   ]
  },
  {
   "cell_type": "code",
   "execution_count": 16,
   "metadata": {},
   "outputs": [
    {
     "name": "stderr",
     "output_type": "stream",
     "text": [
      "3810it [09:59,  7.14it/s]\n"
     ]
    },
    {
     "name": "stdout",
     "output_type": "stream",
     "text": [
      "test_map 0.7023230430179115\n"
     ]
    }
   ],
   "source": [
    "testset = TestDataset(opt, scale=1.35)\n",
    "test_dataloader = data_.DataLoader(testset,\n",
    "                                   batch_size=1,\n",
    "                                   num_workers=1,\n",
    "                                   shuffle=False, \\\n",
    "                                   pin_memory=True\n",
    "                                   )\n",
    "eval_result = eval(test_dataloader, faster_rcnn, test_num=opt.test_num)\n",
    "print('test_map', eval_result['map'])"
   ]
  },
  {
   "cell_type": "code",
   "execution_count": 17,
   "metadata": {},
   "outputs": [
    {
     "name": "stderr",
     "output_type": "stream",
     "text": [
      "3810it [09:53,  7.13it/s]\n"
     ]
    },
    {
     "name": "stdout",
     "output_type": "stream",
     "text": [
      "test_map 0.6495383028342389\n"
     ]
    }
   ],
   "source": [
    "testset = TestDataset(opt, scale=1.48)\n",
    "test_dataloader = data_.DataLoader(testset,\n",
    "                                   batch_size=1,\n",
    "                                   num_workers=1,\n",
    "                                   shuffle=False, \\\n",
    "                                   pin_memory=True\n",
    "                                   )\n",
    "eval_result = eval(test_dataloader, faster_rcnn, test_num=opt.test_num)\n",
    "print('test_map', eval_result['map'])"
   ]
  },
  {
   "cell_type": "code",
   "execution_count": 18,
   "metadata": {},
   "outputs": [
    {
     "name": "stderr",
     "output_type": "stream",
     "text": [
      "3810it [10:29,  6.06it/s]\n"
     ]
    },
    {
     "name": "stdout",
     "output_type": "stream",
     "text": [
      "test_map 0.22073866376076506\n"
     ]
    }
   ],
   "source": [
    "testset = TestDataset(opt, scale=2.0)\n",
    "test_dataloader = data_.DataLoader(testset,\n",
    "                                   batch_size=1,\n",
    "                                   num_workers=1,\n",
    "                                   shuffle=False, \\\n",
    "                                   pin_memory=True\n",
    "                                   )\n",
    "eval_result = eval(test_dataloader, faster_rcnn, test_num=opt.test_num)\n",
    "print('test_map', eval_result['map'])"
   ]
  }
 ],
 "metadata": {
  "kernelspec": {
   "display_name": "Python [conda env:sar]",
   "language": "python",
   "name": "conda-env-sar-py"
  },
  "language_info": {
   "codemirror_mode": {
    "name": "ipython",
    "version": 3
   },
   "file_extension": ".py",
   "mimetype": "text/x-python",
   "name": "python",
   "nbconvert_exporter": "python",
   "pygments_lexer": "ipython3",
   "version": "3.6.8"
  }
 },
 "nbformat": 4,
 "nbformat_minor": 2
}
